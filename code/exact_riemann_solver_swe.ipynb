{
 "cells": [
  {
   "cell_type": "code",
   "execution_count": null,
   "metadata": {},
   "outputs": [],
   "source": [
    "%matplotlib notebook\n",
    "%pylab"
   ]
  },
  {
   "cell_type": "markdown",
   "metadata": {},
   "source": [
    "## Note book for solving the Shallow water equation(SWE) Riemann problem exactly.\n",
    "\n",
    "For SWE, all states $q$ that can be connected to some fixed state $h_{*}$ (representing either $h_l$ or $h_r$) can be determined by satisfying a system of two equations:\n",
    "\\begin{eqnarray}\n",
    "s(h_{*}-h) &=& h_{*}u_{*} - hu\\\\\n",
    "s(h_{*}u_{*} - hu) &=& h_{*}u_{*}^{2} - hu^{2} + \\frac{1}{2} g (h_{*}^{2} - h^{2})\n",
    "\\end{eqnarray}\n",
    "\n",
    "$(h_{*},u_{*})$ is fixed, and then we find all states (h,u) and the corresponding speeds satisfying the relations.  The two distinct families of solutions corresponding to 1-shock and 2-shock are obtained.\n",
    "\n",
    "\n",
    "Given a Riemann problem with data $q_{l}$ and $q^{r}$, for a solution of two shocks. We solve Riemann problem to find a state $q_{m}$ that can be connected to $q_{l}$ by a 1-shock, since $q_{m}$ must lie on this curve, we have \n",
    "\\begin{eqnarray}\n",
    "u_{m} = u_{r} + (h_{m} -h_{r})\\left(\\frac{g}{2} \\left( \\frac{1}{h_{m}} + \\frac{1}{h_{r}}\\right)\\right)^{\\frac{1}{2}}\n",
    "\\label{s0}\n",
    "\\end{eqnarray}\n",
    "And similary a state $q_{m}$ that can be connected to $q_{r}$ by a 2-shock, since $q_{m}$ must lie on this curve, we have \n",
    "\\begin{eqnarray}\n",
    "u_{m} = u_{l} - (h_{m} -h_{l})\\left(\\frac{g}{2} \\left( \\frac{1}{h_{m}} + \\frac{1}{h_{l}}\\right)\\right)^{\\frac{1}{2}}\n",
    "\\label{s1}\n",
    "\\end{eqnarray}\n",
    "\n",
    "The intermediate state in the Riemann solution is obtained by solving the systems of two equations above using Newtons method."
   ]
  },
  {
   "cell_type": "markdown",
   "metadata": {},
   "source": [
    "# Newtons method"
   ]
  },
  {
   "cell_type": "code",
   "execution_count": null,
   "metadata": {},
   "outputs": [],
   "source": [
    "def newton(ho,uo,hl,hr,ul,ur,g,max_iter,epislon):\n",
    "    \n",
    "    def f1(hm,um):\n",
    "        return (um - (ur + (hm-hr)*sqrt((g/2)*(1/hm + 1/hr))))\n",
    "\n",
    "    def f2(hm,um):\n",
    "        return (um - (ul - (hm-hl)*sqrt((g/2)*(1/hm + 1/hl))))\n",
    "\n",
    "    #Derivatives\n",
    "    def f1h(hm,um):\n",
    "        return (sqrt(2*g*(hm + hr)/(hm*hr)))*(-2*hm*(hm + hr) + hr*(hm - hr)) \\\n",
    "              / (4*hm*(hm + hr))\n",
    "\n",
    "    def f1u(hm,um):\n",
    "        return 1\n",
    "\n",
    "    def f2h(hm,um):\n",
    "        return (sqrt(2*g*(hm + hl)/(hm*hl)))*(2*hm*(hm + hl) + hl*(hl - hm)) \\\n",
    "              / (4*hm*(hm + hl))\n",
    "\n",
    "    def f2u(hm,um):\n",
    "        return 1\n",
    "\n",
    "    #Jacobian\n",
    "    def J(f1h,f1u,f2h,f2u,hm,um):\n",
    "        return array([[f1h(hm,um),f1u(hm,um)],[f2h(hm,um),f2u(hm,um)]])\n",
    "\n",
    "    #inverse of J\n",
    "    def Jinv(hm,um):\n",
    "        return linalg.inv(J(f1h,f1u,f2h,f2u,hm,um))\n",
    "\n",
    "    def f(hm,um):\n",
    "        return array([f1(hm,um),f2(hm,um)])\n",
    "\n",
    "    #intial value\n",
    "\n",
    "    vo = array([ho,uo])\n",
    "\n",
    "    #method\n",
    "    for i in range(max_iter):\n",
    "\n",
    "        v1 = vo - Jinv(ho,uo)@f(ho,uo)\n",
    "\n",
    "        if linalg.norm(v1-vo) < epislon:\n",
    "            break\n",
    "        else:\n",
    "            vo = v1\n",
    "            ho = v1[0]\n",
    "            uo = v1[1]\n",
    "            \n",
    "    return v1[0],v1[1]"
   ]
  },
  {
   "cell_type": "markdown",
   "metadata": {},
   "source": [
    "### Example 13.6\n",
    "Consider an initial height and  velocity field given by the equations below\n",
    "\n",
    "\\begin{equation*}\n",
    "h(x,0) = \\left\\{\\begin{array}{rr} \n",
    "1 & x < 0 \\\\\n",
    "1 & x >= 0\\\\\n",
    "\\end{array}\n",
    "\\right.\n",
    "\\end{equation*}\n",
    "\n",
    "\\begin{equation*}\n",
    "u(x,0) = \\left\\{\\begin{array}{rr} \n",
    "0.5 & x < 0 \\\\\n",
    "-0.5 & x >= 0\\\\\n",
    "\\end{array}\n",
    "\\right.\n",
    "\\end{equation*}\n",
    "\n",
    "Set $g = 1$, find $h_{m}$ and $u_{m}$ and then plot the all-shock Riemann solution in the $h-hu$ plane.  \n"
   ]
  },
  {
   "cell_type": "code",
   "execution_count": null,
   "metadata": {},
   "outputs": [],
   "source": [
    "#initial uo and ho for the newton method\n",
    "ho = 0.1\n",
    "uo = 0.01\n",
    "\n",
    "hl = 1\n",
    "hr = 1\n",
    "ul = 0.5\n",
    "ur = -0.5\n",
    "g=1\n",
    "\n",
    "epislon = 1e-16\n",
    "max_iter = 100\n",
    "\n",
    "hm,um = newton(ho,uo,hl,hr,ul,ur,g,max_iter,epislon)\n",
    "\n",
    "print(\"hm = \",hm)\n",
    "print(\"um = \",um)"
   ]
  },
  {
   "cell_type": "markdown",
   "metadata": {},
   "source": [
    "# Shock speed"
   ]
  },
  {
   "cell_type": "code",
   "execution_count": null,
   "metadata": {},
   "outputs": [],
   "source": [
    "def shockspeed(hstar,ustar,hm,um):\n",
    "    s = (hstar*ustar - hm*um)/(hstar-hm)\n",
    "    return s"
   ]
  },
  {
   "cell_type": "markdown",
   "metadata": {},
   "source": [
    "### Dam break problem\n",
    "Consider an initial height and  velocity field given by the equations below\n",
    "\n",
    "\\begin{equation*}\n",
    "h(x,0) = \\left\\{\\begin{array}{rr} \n",
    "1 & x < 0 \\\\\n",
    "2 & x >= 0\\\\\n",
    "\\end{array}\n",
    "\\right.\n",
    "\\end{equation*}\n",
    "\n",
    "\\begin{equation*}\n",
    "u(x,0) = \\left\\{\\begin{array}{rr} \n",
    "0 & x < 0 \\\\\n",
    "0 & x >= 0\\\\\n",
    "\\end{array}\n",
    "\\right.\n",
    "\\end{equation*}\n",
    "\n",
    "Set $g = 1$, find $h_{m}$, $u_{m}$ and the shock speed.  \n"
   ]
  },
  {
   "cell_type": "code",
   "execution_count": null,
   "metadata": {},
   "outputs": [],
   "source": [
    "#initial uo and ho for the newton method\n",
    "ho = 0.1\n",
    "uo = 0.01\n",
    "\n",
    "hl = 1\n",
    "hr = 2\n",
    "ul = 0\n",
    "ur = 0\n",
    "g=1\n",
    "\n",
    "epislon = 1e-16\n",
    "max_iter = 100\n",
    "\n",
    "hm,um = newton(ho,uo,hl,hr,ul,ur,g,max_iter,epislon)\n",
    "\n",
    "s = abs(shockspeed(hl,ul,hm,um))\n",
    "print(\"hm = \",hm)\n",
    "print(\"um = \",um)\n",
    "print(\"shock speed = \",s)"
   ]
  },
  {
   "cell_type": "markdown",
   "metadata": {},
   "source": [
    "# All-Shock Riemann solution"
   ]
  },
  {
   "cell_type": "code",
   "execution_count": null,
   "metadata": {
    "scrolled": false
   },
   "outputs": [],
   "source": [
    "def states(hl,ul,hr,ur,g,ah,bh,dh):\n",
    "\n",
    "    umax = lambda h,hstar,ustar : ustar + sqrt((g/2)*(hstar/h - h/hstar)*(hstar-h))\n",
    "    umin = lambda h,hstar,ustar : ustar - sqrt((g/2)*(hstar/h - h/hstar)*(hstar-h))\n",
    "\n",
    "    h = arange(ah,bh,dh)\n",
    "\n",
    "    ur1 = zeros(len(h))\n",
    "    ur2 = zeros(len(h))\n",
    "    ul1 = zeros(len(h))\n",
    "    ul2 = zeros(len(h))\n",
    "\n",
    "    for i in range(len(h)):\n",
    "        #check for 2-shock or 2-rarefaction\n",
    "        if h[i]<hr:\n",
    "            ur1[i] = umin(h[i],hr,ur)\n",
    "        else:\n",
    "            ur2[i] = umax(h[i],hr,ur)\n",
    "            \n",
    "        #check for 1-shock or 1-rarefaction    \n",
    "        if h[i]<hl:\n",
    "            ul1[i] = umax(h[i],hl,ul)\n",
    "        else:\n",
    "            ul2[i] = umin(h[i],hl,ul)\n",
    "            \n",
    "    return h,ur1,ur2,ul1,ul2\n"
   ]
  },
  {
   "cell_type": "code",
   "execution_count": null,
   "metadata": {},
   "outputs": [],
   "source": [
    "def ql(hl,ul):\n",
    "    hu = hl*ul\n",
    "    return hl,hu\n",
    "\n",
    "def qr(hr,ur):\n",
    "    hu = hr*ur\n",
    "    return hr,hu\n",
    "\n",
    "def qm(hm,um):\n",
    "    hu = hm*um\n",
    "    return hm,hu"
   ]
  },
  {
   "cell_type": "markdown",
   "metadata": {},
   "source": [
    "### Plot the all-shock Riemann solution in the $h-hu$ plane.  "
   ]
  },
  {
   "cell_type": "code",
   "execution_count": null,
   "metadata": {},
   "outputs": [],
   "source": [
    "#initial uo and ho for the newton method\n",
    "ho = 0.1\n",
    "uo = 0.01\n",
    "\n",
    "hl = 1\n",
    "hr = 1\n",
    "ul = 0.5\n",
    "ur = -0.5\n",
    "g=1\n",
    "\n",
    "epislon = 1e-16\n",
    "max_iter = 100\n",
    "\n",
    "ah = 1e-5\n",
    "bh = 4.5\n",
    "dh = 1e-4"
   ]
  },
  {
   "cell_type": "code",
   "execution_count": null,
   "metadata": {},
   "outputs": [],
   "source": [
    "#calling functions\n",
    "h,ur1,ur2,ul1,ul2 = states(hl,ul,hr,ur,g,ah,bh,dh)\n",
    "\n",
    "hm,um = newton(ho,uo,hl,hr,ul,ur,g,max_iter,epislon)\n",
    "\n",
    "hl,hul = ql(hl,ul)\n",
    "hr,hur = qr(hr,ur)\n",
    "hm,hum = qm(hm,um)\n",
    "\n",
    "#eliminating zero entries\n",
    "ur1 = ur1[ur1!=0]\n",
    "ur2 = ur2[ur2!=0]\n",
    "ul1 = ul1[ul1!=0]\n",
    "ul2 = ul2[ul2!=0]\n",
    "nn = len(ur1)  "
   ]
  },
  {
   "cell_type": "code",
   "execution_count": null,
   "metadata": {
    "scrolled": false
   },
   "outputs": [],
   "source": [
    "#plotting        \n",
    "figure(1)\n",
    "plot(h[nn:],h[nn:]*ul2,label='1-shock')\n",
    "plot(h[nn:],h[nn:]*ur2,label='2-shock')\n",
    "plot(h[0:nn],h[0:nn]*ul1,'--')\n",
    "plot(h[0:nn],h[0:nn]*ur1,'--')\n",
    "\n",
    "plot(hr,hur,'.',label='qr')\n",
    "plot(hl,hul,'.',label='ql')\n",
    "plot(hm,hum,'.',label='qm')\n",
    "\n",
    "grid()\n",
    "xlabel('h = depth')\n",
    "ylabel('hu = momentum')\n",
    "legend()\n",
    "title('Hugoniot loci')\n",
    "ylim(-2.5,2.5)\n",
    "\n",
    "axhline(0, color='black')\n",
    "axvline(0, color='black')\n",
    "\n",
    "show()"
   ]
  },
  {
   "cell_type": "markdown",
   "metadata": {},
   "source": [
    " Dotted and solid curves represent unphysical and physical solutions respectively. "
   ]
  },
  {
   "cell_type": "markdown",
   "metadata": {},
   "source": [
    "### Example 13.7 (Dam break problem: Entropy-violating Riemann solution)"
   ]
  },
  {
   "cell_type": "code",
   "execution_count": null,
   "metadata": {},
   "outputs": [],
   "source": [
    "#initial uo and ho for the newton method\n",
    "ho = 0.1\n",
    "uo = 0.01\n",
    "\n",
    "hl = 3\n",
    "hr = 1\n",
    "ul = 0\n",
    "ur = 0\n",
    "g=1\n",
    "\n",
    "epislon = 1e-16\n",
    "max_iter = 100\n",
    "\n",
    "ah = 1e-5\n",
    "bh = 4.5\n",
    "dh = 1e-4"
   ]
  },
  {
   "cell_type": "code",
   "execution_count": null,
   "metadata": {},
   "outputs": [],
   "source": [
    "#calling functions\n",
    "h,ur1,ur2,ul1,ul2 = states(hl,ul,hr,ur,g,ah,bh,dh)\n",
    "\n",
    "hm,um = newton(ho,uo,hl,hr,ul,ur,g,max_iter,epislon)\n",
    "\n",
    "hl,hul = ql(hl,ul)\n",
    "hr,hur = qr(hr,ur)\n",
    "hm,hum = qm(hm,um)"
   ]
  },
  {
   "cell_type": "code",
   "execution_count": null,
   "metadata": {},
   "outputs": [],
   "source": [
    "#plotting        \n",
    "figure(2)\n",
    "plot(h,h*ul2,label='1-shock')\n",
    "plot(h,h*ur2,label='2-shock')\n",
    "plot(h,h*ul1,'--',label='1-rarefaction')\n",
    "plot(h,h*ur1,'--',label='2-rarefaction')\n",
    "\n",
    "plot(hr,hur,'.',label='qr')\n",
    "plot(hl,hul,'.',label='ql')\n",
    "plot(hm,hum,'.',label='qm')\n",
    "\n",
    "grid()\n",
    "xlabel('h = depth')\n",
    "ylabel('hu = momentum')\n",
    "legend()\n",
    "title('Hugoniot loci')\n",
    "ylim(-2.5,2.5)\n",
    "\n",
    "axhline(0, color='black')\n",
    "axvline(0, color='black')\n",
    "\n",
    "show()"
   ]
  },
  {
   "cell_type": "markdown",
   "metadata": {},
   "source": [
    "### The All-rarefaction Riemann solution\n",
    "The physical correct solution with a rarefaction wave is obtained by solving a system of two non linear equations for $h_{m}$ and $u_{m}$.\n",
    "\\begin{eqnarray}\n",
    "u_{m} &=& u_{l} + 2(\\sqrt(gh_{l}) - \\sqrt(gh_{m}))\\\\\n",
    "u_{m} &=& u_{r} - 2(\\sqrt(gh_{r}) - \\sqrt(gh_{m}))\n",
    "\\end{eqnarray}\n",
    "\n",
    "Eliminating $u_{m}$ from both equations gives a single equation for $h_{m}$, that is explicitly solved to obtain:\n",
    "\\begin{equation}\n",
    "h_{m} = \\frac{1}{16g}[u_{l} - u_{r} + 2(\\sqrt(gh_{l}) + \\sqrt(gh_{r}))]^{2}\n",
    "\\end{equation}"
   ]
  },
  {
   "cell_type": "code",
   "execution_count": null,
   "metadata": {},
   "outputs": [],
   "source": [
    "def rare(hl,ul,hr,ur,g):\n",
    "    hm = (1/16*g)*(ul - ur + 2*(sqrt(g*hl) + sqrt(g*hr)))**2\n",
    "    um = ul + 2*(sqrt(g*hl) - sqrt(g*hm))\n",
    "    return hm,um"
   ]
  },
  {
   "cell_type": "markdown",
   "metadata": {},
   "source": [
    "### Example 13.5\n",
    "Consider an initial height and  velocity field given by the equations below\n",
    "\n",
    "\\begin{equation*}\n",
    "h(x,0) = \\left\\{\\begin{array}{rr} \n",
    "1 & x < 0 \\\\\n",
    "1 & x >= 0\\\\\n",
    "\\end{array}\n",
    "\\right.\n",
    "\\end{equation*}\n",
    "\n",
    "\\begin{equation*}\n",
    "u(x,0) = \\left\\{\\begin{array}{rr} \n",
    "-0.5 & x < 0 \\\\\n",
    "0.5 & x >= 0\\\\\n",
    "\\end{array}\n",
    "\\right.\n",
    "\\end{equation*}\n",
    "\n",
    "Set $g = 1$, find $h_{m}$ and $u_{m}$ and then plot the all-shock Riemann solution in the $h-hu$ plane."
   ]
  },
  {
   "cell_type": "code",
   "execution_count": null,
   "metadata": {},
   "outputs": [],
   "source": [
    "#initial uo and ho for the newton method\n",
    "ho = 0.1\n",
    "uo = 0.01\n",
    "\n",
    "hl = 1\n",
    "hr = 1\n",
    "ul = -0.5\n",
    "ur = 0.5\n",
    "g=1\n",
    "\n",
    "ah = 1e-5\n",
    "bh = 4.5\n",
    "dh = 1e-4"
   ]
  },
  {
   "cell_type": "code",
   "execution_count": null,
   "metadata": {},
   "outputs": [],
   "source": [
    "hm,um = rare(hl,ul,hr,ur,g)"
   ]
  },
  {
   "cell_type": "code",
   "execution_count": null,
   "metadata": {},
   "outputs": [],
   "source": [
    "#calling functions\n",
    "h,ur1,ur2,ul1,ul2 = states(hl,ul,hr,ur,g,ah,bh,dh)\n",
    "\n",
    "#hm,um = newton(ho,uo,hl,hr,ul,ur,g,max_iter,epislon)\n",
    "\n",
    "hl,hul = ql(hl,ul)\n",
    "hr,hur = qr(hr,ur)\n",
    "hm,hum = qm(hm,um)\n",
    "\n",
    "#eliminating zero entries\n",
    "ur1 = ur1[ur1!=0]\n",
    "ur2 = ur2[ur2!=0]\n",
    "ul1 = ul1[ul1!=0]\n",
    "ul2 = ul2[ul2!=0]\n",
    "nn = len(ur1)  "
   ]
  },
  {
   "cell_type": "code",
   "execution_count": null,
   "metadata": {},
   "outputs": [],
   "source": [
    "#plotting        \n",
    "figure(3)\n",
    "plot(h[nn:],h[nn:]*ul2,'--')\n",
    "plot(h[nn:],h[nn:]*ur2,'--')\n",
    "plot(h[0:nn],h[0:nn]*ul1,label='1-rarefaction')\n",
    "plot(h[0:nn],h[0:nn]*ur1,label='2-rarefaction')\n",
    "\n",
    "plot(hr,hur,'.',label='qr')\n",
    "plot(hl,hul,'.',label='ql')\n",
    "plot(hm,hum,'.',label='qm')\n",
    "\n",
    "grid()\n",
    "xlabel('h = depth')\n",
    "ylabel('hu = momentum')\n",
    "legend()\n",
    "title('Hugoniot loci')\n",
    "ylim(-2.5,2.5)\n",
    "\n",
    "axhline(0, color='black')\n",
    "axvline(0, color='black')\n",
    "\n",
    "show()"
   ]
  },
  {
   "cell_type": "markdown",
   "metadata": {},
   "source": [
    "# Dam break (all rare faction)"
   ]
  },
  {
   "cell_type": "code",
   "execution_count": null,
   "metadata": {},
   "outputs": [],
   "source": [
    "#initial uo and ho for the newton method\n",
    "ho = 0.1\n",
    "uo = 0.01\n",
    "\n",
    "hl = 3\n",
    "hr = 1\n",
    "ul = 0\n",
    "ur = 0\n",
    "g=1\n",
    "\n",
    "ah = 1e-5\n",
    "bh = 4.5\n",
    "dh = 1e-4"
   ]
  },
  {
   "cell_type": "code",
   "execution_count": null,
   "metadata": {},
   "outputs": [],
   "source": [
    "#calling functions\n",
    "h,ur1,ur2,ul1,ul2 = states(hl,ul,hr,ur,g,ah,bh,dh)\n",
    "\n",
    "hm,um = rare(hl,ul,hr,ur,g)\n",
    "\n",
    "hl,hul = ql(hl,ul)\n",
    "hr,hur = qr(hr,ur)\n",
    "hm,hum = qm(hm,um)\n"
   ]
  },
  {
   "cell_type": "code",
   "execution_count": null,
   "metadata": {},
   "outputs": [],
   "source": [
    "#plotting        \n",
    "figure(4)\n",
    "plot(h,h*ul2,'--')\n",
    "plot(h,h*ur2,'--')\n",
    "plot(h,h*ul1,label='1-rarefaction')\n",
    "plot(h,h*ur1,label='2-rarefaction')\n",
    "\n",
    "plot(hr,hur,'.',label='qr')\n",
    "plot(hl,hul,'.',label='ql')\n",
    "plot(hm,hum,'.',label='qm')\n",
    "\n",
    "grid()\n",
    "xlabel('h = depth')\n",
    "ylabel('hu = momentum')\n",
    "legend()\n",
    "title('Hugoniot loci')\n",
    "ylim(-2.5,2.5)\n",
    "\n",
    "axhline(0, color='black')\n",
    "axvline(0, color='black')\n",
    "\n",
    "show()"
   ]
  },
  {
   "cell_type": "code",
   "execution_count": null,
   "metadata": {},
   "outputs": [],
   "source": []
  },
  {
   "cell_type": "code",
   "execution_count": null,
   "metadata": {},
   "outputs": [],
   "source": []
  }
 ],
 "metadata": {
  "kernelspec": {
   "display_name": "Python 3",
   "language": "python",
   "name": "python3"
  },
  "language_info": {
   "codemirror_mode": {
    "name": "ipython",
    "version": 3
   },
   "file_extension": ".py",
   "mimetype": "text/x-python",
   "name": "python",
   "nbconvert_exporter": "python",
   "pygments_lexer": "ipython3",
   "version": "3.8.5"
  }
 },
 "nbformat": 4,
 "nbformat_minor": 4
}
