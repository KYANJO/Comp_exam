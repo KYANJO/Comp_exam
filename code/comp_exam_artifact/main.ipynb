{
 "cells": [
  {
   "cell_type": "markdown",
   "metadata": {},
   "source": [
    "## Computing Artifact\n",
    "### Author: Brian KYANJO\n",
    "#### Supervisor: Prof. Donna Calhoun\n",
    "###### Course: Computing PHD (Computational Math Science and Engineering)\n",
    "This is a notebook where all test cases are tested. The mathematics and further details behind the implement solves is well discussed in the pdf file attached named brian_kyanjo_synthesis_duplicate.pdf.  "
   ]
  },
  {
   "cell_type": "code",
   "execution_count": 1,
   "metadata": {},
   "outputs": [
    {
     "name": "stdout",
     "output_type": "stream",
     "text": [
      "Using matplotlib backend: nbAgg\n",
      "Populating the interactive namespace from numpy and matplotlib\n"
     ]
    }
   ],
   "source": [
    "%matplotlib notebook\n",
    "%pylab\n",
    "%reload_ext autoreload\n",
    "%autoreload 2"
   ]
  },
  {
   "cell_type": "code",
   "execution_count": 2,
   "metadata": {},
   "outputs": [],
   "source": [
    "#Problem test\n",
    "case = 8 # 0 = left going shock\n",
    "         # 1 = right going shock\n",
    "         # 2 = right going rarefaction\n",
    "         # 3 = left going rarefaction\n",
    "         # 4 = dambreak\n",
    "         # 5 = Allrarefaction\n",
    "         # 6 = Allshock\n",
    "         # 7 = left dry state\n",
    "         # 8 = middle dry state\n",
    "         # 9 = right dry state\n",
    "\n",
    "itype = 1 # 0 = presence  dry states (All exact solver)\n",
    "          # 1 = no dry states (Only a selected approximate solver is compared to the exact)\n",
    "          # 2 = no dry states (All solvers)\n",
    "    \n",
    "mq = 0    # mq = 0 : Height field\n",
    "          # mq = 1 : Momentum field\n",
    "\n",
    "\n",
    "#choice of the Riemann solver        \n",
    "solver = 1 # 0 = Roe-solver\n",
    "           # 1 = flux-decomposition solver\n",
    "           # 2 = fwave Solver with source term\n",
    "\n",
    "limiter_choice = 'minmod' #MC \n",
    "                          #minmod\n",
    "                          #superbea\n",
    "                          #vanleer\n",
    "                \n",
    "second_order = True\n",
    "\n",
    "# Spatial domain\n",
    "ax = -6\n",
    "bx = 6\n",
    "\n",
    "#middle dry state choose: ay = -0.1, by = 0.2\n",
    "#left dry state choose: ay = -0.1, by = 1.2\n",
    "#right dry state choose: ay = -0.1, by = 1.2\n",
    "ay = -0.5    \n",
    "by = 3\n",
    "\n",
    "meqn = 2  # Number of equations in the system\n",
    "\n",
    "# Gravity\n",
    "g = 1\n",
    "\n",
    "# Temporal domain\n",
    "to = 0\n",
    "Tfinal = 2\n",
    "\n",
    "# Numerical parameters\n",
    "cfl = 0.9\n",
    "\n",
    "mx = 256 #number of spatial points\n",
    "\n",
    "# Estimate maximum wave speed.  Note that this will change with time, so we have to find a \n",
    "# maximum that works for t in [0,T]\n",
    "umax = 1.7"
   ]
  },
  {
   "cell_type": "markdown",
   "metadata": {},
   "source": [
    "#### Sample test and plot"
   ]
  },
  {
   "cell_type": "code",
   "execution_count": 3,
   "metadata": {
    "scrolled": false
   },
   "outputs": [
    {
     "ename": "SystemExit",
     "evalue": "The approximate solves can't handle dry states yet, please choose itype = 0 for presence of dry states.",
     "output_type": "error",
     "traceback": [
      "An exception has occurred, use %tb to see the full traceback.\n",
      "\u001b[0;31mSystemExit\u001b[0m\u001b[0;31m:\u001b[0m The approximate solves can't handle dry states yet, please choose itype = 0 for presence of dry states.\n"
     ]
    }
   ],
   "source": [
    "import test #Conatins test cases, plot function,Intial and Boundary conditions\n",
    "\n",
    "test.Riemansoln(umax,to,mq,case,itype,g,ax,bx,ay,by,mx,\\\n",
    "                Tfinal,limiter_choice,second_order,meqn,\\\n",
    "                solver,cfl)"
   ]
  },
  {
   "cell_type": "code",
   "execution_count": null,
   "metadata": {},
   "outputs": [],
   "source": []
  }
 ],
 "metadata": {
  "kernelspec": {
   "display_name": "Python 3 (ipykernel)",
   "language": "python",
   "name": "python3"
  },
  "language_info": {
   "codemirror_mode": {
    "name": "ipython",
    "version": 3
   },
   "file_extension": ".py",
   "mimetype": "text/x-python",
   "name": "python",
   "nbconvert_exporter": "python",
   "pygments_lexer": "ipython3",
   "version": "3.8.11"
  }
 },
 "nbformat": 4,
 "nbformat_minor": 2
}
