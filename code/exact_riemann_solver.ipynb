{
 "cells": [
  {
   "cell_type": "code",
   "execution_count": null,
   "metadata": {},
   "outputs": [],
   "source": [
    "%matplotlib notebook\n",
    "%pylab"
   ]
  },
  {
   "cell_type": "code",
   "execution_count": null,
   "metadata": {},
   "outputs": [],
   "source": [
    "#dam break\n",
    "hl = 2\n",
    "hr = 1\n",
    "ul = 0\n",
    "ur = 0\n",
    "\n",
    "# Spatial domain\n",
    "ax = -5\n",
    "bx = 5\n",
    "ay = -0.5\n",
    "by = 3\n",
    "meqn = 2  # Number of equations in the system\n",
    "\n",
    "# Gravity\n",
    "g = 1\n",
    "\n",
    "# Temporal domain\n",
    "to = 0\n",
    "Tfinal = 2\n",
    "\n",
    "#Initial uo and ho for the newton method\n",
    "ho = 0.1\n",
    "uo = 0.01\n",
    "\n",
    "# Numerical parameters\n",
    "epislon = 1e-16\n",
    "max_iter = 100\n",
    "\n",
    "#Numerical values\n",
    "qo = array([ho,uo])\n",
    "\n",
    "#intial data\n",
    "ql = array([hl,hl*ul])\n",
    "qr = array([hr,hr*ur])\n",
    "\n",
    "N = 100\n",
    "nsteps = 30\n",
    "t = linspace(to,Tfinal,nsteps)\n",
    "x = linspace(ax,bx,N+1)"
   ]
  },
  {
   "cell_type": "code",
   "execution_count": null,
   "metadata": {},
   "outputs": [],
   "source": [
    "from exact_solver import *\n",
    "\n",
    "#rarefaction solution\n",
    "hmr,umr = rare(ql,qr,g)\n",
    "\n",
    "#shock solution\n",
    "hms,hums = newton(qo,ql,qr,g,max_iter,epislon)\n",
    "\n",
    "ums = hums/hms\n",
    "\n",
    "#intermediate states\n",
    "qmr = array([hmr,hmr*umr])\n",
    "qms = array([hms,hms*ums])\n",
    "\n",
    "shock_speed = sr(hms,qr,g)\n",
    "\n",
    "laml = lam1(hl,ul,g)\n",
    "lamr = lam1(hmr,umr,g)"
   ]
  },
  {
   "cell_type": "code",
   "execution_count": null,
   "metadata": {
    "scrolled": false
   },
   "outputs": [],
   "source": [
    "fig = figure(2)\n",
    "clf()\n",
    "\n",
    "# mq = 0 : Height field\n",
    "# mq = 1 : Momentum field\n",
    "\n",
    "mq = 0\n",
    "\n",
    "qo = qexact(x,to,mq,ql,qr,qmr,qms,lam1,g)\n",
    "\n",
    "hdl, = plot(x,qo,'b-',markersize=5)\n",
    "\n",
    "if mq == 0:\n",
    "    tstr = 'Height : t = {:.4f}'\n",
    "    rare_speed, = plot([0,0],[hl,hmr],'r.',markersize = 10)\n",
    "else:\n",
    "    tstr = 'Momentum : t = {:.4f}'\n",
    "    rare_speed, = plot([0,0],[hl*ul,hmr*umr],'r.',markersize = 10)\n",
    "\n",
    "htitle = title(tstr.format(0),fontsize=18)\n",
    "\n",
    "shdl, = plot([0,0],[ay,by],'r-',linewidth=0.5)\n",
    "\n",
    "#time loop\n",
    "for n in range(nsteps):\n",
    "    \n",
    "    q = qexact(x,t[n],mq,ql,qr,qmr,qms,lam1,g)\n",
    "    \n",
    "    hdl.set_ydata(q)\n",
    "    \n",
    "    shdl.set_xdata([shock_speed*t[n],shock_speed*t[n]])\n",
    "    \n",
    "    rare_speed.set_xdata([t[n]*laml,t[n]*lamr])\n",
    "    \n",
    "    xlabel('x',fontsize=16)\n",
    "    ylabel('q(x,t)',fontsize=16)\n",
    "    htitle.set_text(tstr.format(t[n]))\n",
    "    \n",
    "    ylim([ay,by])\n",
    "    pause(0.1)\n",
    "\n",
    "    fig.canvas.draw()        \n",
    "\n"
   ]
  },
  {
   "cell_type": "code",
   "execution_count": null,
   "metadata": {},
   "outputs": [],
   "source": []
  },
  {
   "cell_type": "code",
   "execution_count": null,
   "metadata": {},
   "outputs": [],
   "source": []
  }
 ],
 "metadata": {
  "kernelspec": {
   "display_name": "Python 3",
   "language": "python",
   "name": "python3"
  },
  "language_info": {
   "codemirror_mode": {
    "name": "ipython",
    "version": 3
   },
   "file_extension": ".py",
   "mimetype": "text/x-python",
   "name": "python",
   "nbconvert_exporter": "python",
   "pygments_lexer": "ipython3",
   "version": "3.8.5"
  }
 },
 "nbformat": 4,
 "nbformat_minor": 4
}
